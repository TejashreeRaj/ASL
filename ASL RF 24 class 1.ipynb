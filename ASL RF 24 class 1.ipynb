{
 "cells": [
  {
   "cell_type": "markdown",
   "id": "5e14cbae",
   "metadata": {},
   "source": [
    "## Importing libraries"
   ]
  },
  {
   "cell_type": "code",
   "execution_count": 1,
   "id": "72ef18b3",
   "metadata": {},
   "outputs": [],
   "source": [
    "import cv2\n",
    "import numpy as np\n",
    "import os\n",
    "from matplotlib import pyplot as plt\n",
    "import time\n",
    "import mediapipe as mp\n",
    "import pickle\n",
    "from sklearn.ensemble import RandomForestClassifier\n",
    "from sklearn.model_selection import train_test_split, GridSearchCV\n",
    "from sklearn.metrics import accuracy_score\n",
    "import tensorflow as tf\n",
    "from sklearn.metrics import precision_score, recall_score, f1_score, confusion_matrix\n",
    "import seaborn as sns\n",
    "import shutil"
   ]
  },
  {
   "cell_type": "markdown",
   "id": "18bf2770",
   "metadata": {},
   "source": [
    "## Collect images"
   ]
  },
  {
   "cell_type": "code",
   "execution_count": 15,
   "id": "101adc9a",
   "metadata": {},
   "outputs": [
    {
     "name": "stdout",
     "output_type": "stream",
     "text": [
      "Collecting data for class 0\n",
      "Collecting data for class 1\n",
      "Collecting data for class 2\n",
      "Collecting data for class 3\n",
      "Collecting data for class 4\n",
      "Collecting data for class 5\n",
      "Collecting data for class 6\n",
      "Collecting data for class 7\n",
      "Collecting data for class 8\n",
      "Collecting data for class 9\n",
      "Collecting data for class 10\n",
      "Collecting data for class 11\n",
      "Collecting data for class 12\n",
      "Collecting data for class 13\n",
      "Collecting data for class 14\n",
      "Collecting data for class 15\n",
      "Collecting data for class 16\n",
      "Collecting data for class 17\n",
      "Collecting data for class 18\n",
      "Collecting data for class 19\n",
      "Collecting data for class 20\n",
      "Collecting data for class 21\n",
      "Collecting data for class 22\n",
      "Collecting data for class 23\n"
     ]
    }
   ],
   "source": [
    "# Define the directory to store the data\n",
    "DATA_DIR = './data'\n",
    "# Create the directory if it doesn't exist\n",
    "if not os.path.exists(DATA_DIR):\n",
    "    os.makedirs(DATA_DIR)\n",
    "\n",
    "# Define the number of alphabet class and the number of images per class\n",
    "number_of_classes = 24\n",
    "dataset_size = 200\n",
    "\n",
    "# Start capturing video from the webcam\n",
    "cap = cv2.VideoCapture(0)\n",
    "# Loop over each class\n",
    "for j in range(number_of_classes):\n",
    "    # Create a directory for each class if it doesn't exist\n",
    "    if not os.path.exists(os.path.join(DATA_DIR, str(j))):\n",
    "        os.makedirs(os.path.join(DATA_DIR, str(j)))\n",
    "\n",
    "    print('Collecting data for class {}'.format(j))\n",
    "\n",
    "    # Loop until the user is ready to start collecting images\n",
    "    while True:\n",
    "        ret, frame = cap.read()\n",
    "        cv2.putText(frame, 'Ready? Press \"Q\" !', (100, 50), cv2.FONT_HERSHEY_SIMPLEX, 1.3, (0, 255, 0), 3,\n",
    "                    cv2.LINE_AA)\n",
    "        # Show the webcam feed in a window\n",
    "        cv2.imshow('frame', frame)\n",
    "        # Wait for the user to press 'q' to start collecting images\n",
    "        if cv2.waitKey(25) == ord('q'):\n",
    "            break\n",
    "\n",
    "    # Initialize a counter for the number of images collected\n",
    "    counter = 0\n",
    "    # Collect images until the dataset size for the class is reached\n",
    "    while counter < dataset_size:\n",
    "        ret, frame = cap.read()\n",
    "        cv2.imshow('frame', frame)\n",
    "        cv2.waitKey(25)\n",
    "        # Save the current frame as an image in the respective class folder\n",
    "        cv2.imwrite(os.path.join(DATA_DIR, str(j), '{}.jpg'.format(counter)), frame)\n",
    "\n",
    "        # Increment the counter\n",
    "        counter += 1\n",
    "\n",
    "# Release the webcam and close all OpenCV windows\n",
    "cap.release()\n",
    "cv2.destroyAllWindows()\n"
   ]
  },
  {
   "cell_type": "markdown",
   "id": "898d2f20",
   "metadata": {},
   "source": [
    "## Combine data"
   ]
  },
  {
   "cell_type": "code",
   "execution_count": 2,
   "id": "a2ad304f",
   "metadata": {},
   "outputs": [],
   "source": [
    "# Paths to your main folder and other folders\n",
    "main_folder = './data'\n",
    "other_folders = ['./Data0', './Data1', './Data2']\n",
    "\n",
    "# Iterate through labels 0 through 24\n",
    "for i in range(25):\n",
    "    label = str(i)\n",
    "    target_folder = os.path.join(main_folder, label)\n",
    "\n",
    "    # Ensure the target folder exists in the main folder\n",
    "    if not os.path.exists(target_folder):\n",
    "        os.makedirs(target_folder)\n",
    "\n",
    "    # Iterate through each source folder\n",
    "    for folder in other_folders:\n",
    "        source_folder = os.path.join(folder, label)\n",
    "\n",
    "        # Check if the source folder exists\n",
    "        if os.path.exists(source_folder):\n",
    "            # Iterate through each file in the source folder\n",
    "            for filename in os.listdir(source_folder):\n",
    "                file_path = os.path.join(source_folder, filename)\n",
    "                if os.path.isfile(file_path):\n",
    "                    # Create a unique file path in the target folder\n",
    "                    unique_file_path = os.path.join(target_folder, filename)\n",
    "                    counter = 1\n",
    "                    # If a file with the same name exists, add a counter to the filename\n",
    "                    while os.path.exists(unique_file_path):\n",
    "                        name, extension = os.path.splitext(filename)\n",
    "                        unique_file_path = os.path.join(target_folder, f\"{name}_{counter}{extension}\")\n",
    "                        counter += 1\n",
    "                    # Copy file to the unique path in the target folder\n",
    "                    shutil.copy(file_path, unique_file_path)\n",
    "\n"
   ]
  },
  {
   "cell_type": "markdown",
   "id": "0b4feeb4",
   "metadata": {},
   "source": [
    "## Prepare data"
   ]
  },
  {
   "cell_type": "code",
   "execution_count": 6,
   "id": "5c5617bf",
   "metadata": {},
   "outputs": [
    {
     "name": "stdout",
     "output_type": "stream",
     "text": [
      "Skipping image 159_1.jpg in 11 due to inconsistent feature size\n",
      "Skipping image 160_1.jpg in 11 due to inconsistent feature size\n",
      "Skipping image 161_1.jpg in 11 due to inconsistent feature size\n",
      "Skipping image 162_1.jpg in 11 due to inconsistent feature size\n",
      "Skipping image 165_1.jpg in 11 due to inconsistent feature size\n",
      "Skipping image 177_1.jpg in 11 due to inconsistent feature size\n",
      "Skipping image 179_1.jpg in 11 due to inconsistent feature size\n",
      "Skipping image 180_1.jpg in 11 due to inconsistent feature size\n",
      "Skipping image 181_1.jpg in 11 due to inconsistent feature size\n",
      "Skipping image 182_1.jpg in 11 due to inconsistent feature size\n",
      "Skipping image 188_1.jpg in 11 due to inconsistent feature size\n",
      "Skipping image 193_1.jpg in 11 due to inconsistent feature size\n",
      "Skipping image 10_3.jpg in 17 due to inconsistent feature size\n",
      "Skipping image 11_3.jpg in 17 due to inconsistent feature size\n",
      "Skipping image 14_3.jpg in 17 due to inconsistent feature size\n",
      "Skipping image 16_3.jpg in 17 due to inconsistent feature size\n",
      "Skipping image 21_3.jpg in 17 due to inconsistent feature size\n",
      "Skipping image 29_3.jpg in 17 due to inconsistent feature size\n",
      "Skipping image 30_3.jpg in 17 due to inconsistent feature size\n",
      "Skipping image 65_3.jpg in 17 due to inconsistent feature size\n",
      "Skipping image 70_3.jpg in 17 due to inconsistent feature size\n",
      "Skipping image 72_3.jpg in 17 due to inconsistent feature size\n",
      "Skipping image 135_1.jpg in 2 due to inconsistent feature size\n",
      "Skipping image 14_2.jpg in 22 due to inconsistent feature size\n",
      "Skipping image 15_2.jpg in 22 due to inconsistent feature size\n",
      "Skipping image 16_2.jpg in 22 due to inconsistent feature size\n",
      "Skipping image 17_2.jpg in 22 due to inconsistent feature size\n",
      "Skipping image 18_2.jpg in 22 due to inconsistent feature size\n",
      "Skipping image 19_2.jpg in 22 due to inconsistent feature size\n",
      "Skipping image 20_2.jpg in 22 due to inconsistent feature size\n",
      "Skipping image 21_2.jpg in 22 due to inconsistent feature size\n",
      "Skipping image 22_2.jpg in 22 due to inconsistent feature size\n",
      "Skipping image 23_2.jpg in 22 due to inconsistent feature size\n",
      "Skipping image 41_2.jpg in 22 due to inconsistent feature size\n",
      "Skipping image 42_2.jpg in 22 due to inconsistent feature size\n",
      "Skipping image 43_2.jpg in 22 due to inconsistent feature size\n",
      "Skipping image 63_1.jpg in 3 due to inconsistent feature size\n",
      "Skipping image 125_1.jpg in 8 due to inconsistent feature size\n",
      "Skipping image 128_1.jpg in 8 due to inconsistent feature size\n",
      "Skipping image 129_1.jpg in 8 due to inconsistent feature size\n",
      "Skipping image 177_2.jpg in 8 due to inconsistent feature size\n",
      "Skipping image 178_2.jpg in 8 due to inconsistent feature size\n",
      "Skipping image 179_2.jpg in 8 due to inconsistent feature size\n"
     ]
    }
   ],
   "source": [
    "# Initialize MediaPipe Hands for hand landmark detection\n",
    "mp_hands = mp.solutions.hands\n",
    "hands = mp_hands.Hands(static_image_mode=True, min_detection_confidence=0.3)\n",
    "\n",
    "# Directory containing the dataset\n",
    "DATA_DIR = './data'\n",
    "\n",
    "# Lists for storing the processed data and corresponding labels\n",
    "data = []\n",
    "labels = []\n",
    "\n",
    "# Define the expected length of the feature vector (e.g., 21 landmarks * 2 coordinates each)\n",
    "expected_length = 42\n",
    "\n",
    "# Iterate through each subdirectory in the dataset\n",
    "for dir_ in os.listdir(DATA_DIR):\n",
    "    # Iterate through each image in the subdirectory\n",
    "    for img_path in os.listdir(os.path.join(DATA_DIR, dir_)):\n",
    "        # Temporary list to store the current image's data\n",
    "        data_aux = []\n",
    "\n",
    "        # Read the image and convert it to RGB color space\n",
    "        img = cv2.imread(os.path.join(DATA_DIR, dir_, img_path))\n",
    "        img_rgb = cv2.cvtColor(img, cv2.COLOR_BGR2RGB)\n",
    "\n",
    "        # Process the image using MediaPipe Hands to detect hand landmarks\n",
    "        results = hands.process(img_rgb)\n",
    "\n",
    "        # Check if any hand landmarks are detected\n",
    "        if results.multi_hand_landmarks:\n",
    "            # Loop through each detected hand\n",
    "            for hand_landmarks in results.multi_hand_landmarks:\n",
    "                # Extract x and y coordinates of the landmarks\n",
    "                x_ = [landmark.x for landmark in hand_landmarks.landmark]\n",
    "                y_ = [landmark.y for landmark in hand_landmarks.landmark]\n",
    "\n",
    "                # Normalize the coordinates relative to the minimum x and y values\n",
    "                for i in range(len(hand_landmarks.landmark)):\n",
    "                    x = hand_landmarks.landmark[i].x\n",
    "                    y = hand_landmarks.landmark[i].y\n",
    "                    data_aux.append(x - min(x_))\n",
    "                    data_aux.append(y - min(y_))\n",
    "\n",
    "            # Ensure the feature vector has the expected length\n",
    "            if len(data_aux) == expected_length:\n",
    "                # Append the normalized landmarks and label to the lists\n",
    "                data.append(data_aux)\n",
    "                labels.append(dir_)\n",
    "            else:\n",
    "                # Skip images with inconsistent feature sizes\n",
    "                print(f\"Skipping image {img_path} in {dir_} due to inconsistent feature size\")\n",
    "\n",
    "# Save the processed data and labels in a pickle file\n",
    "f = open('data.pickle', 'wb')\n",
    "pickle.dump({'data': data, 'labels': labels}, f)\n",
    "f.close()"
   ]
  },
  {
   "cell_type": "markdown",
   "id": "5281f296",
   "metadata": {},
   "source": [
    "## Training Random Forest"
   ]
  },
  {
   "cell_type": "code",
   "execution_count": 2,
   "id": "f22e2540",
   "metadata": {},
   "outputs": [
    {
     "name": "stdout",
     "output_type": "stream",
     "text": [
      "Fitting 3 folds for each of 81 candidates, totalling 243 fits\n",
      "Best parameters found:  {'max_depth': 30, 'min_samples_leaf': 1, 'min_samples_split': 2, 'n_estimators': 300}\n"
     ]
    }
   ],
   "source": [
    "# Load the preprocessed data and labels from the pickle file\n",
    "data_dict = pickle.load(open('./data.pickle', 'rb'))\n",
    "data = np.asarray(data_dict['data'])\n",
    "labels = np.asarray(data_dict['labels'])\n",
    "\n",
    "# Split the dataset into training and testing sets\n",
    "x_train, x_test, y_train, y_test = train_test_split(data, labels, test_size=0.2, shuffle=True, stratify=labels)\n",
    "\n",
    "# Define the parameter grid for RandomForestClassifier\n",
    "param_grid = {\n",
    "    'n_estimators': [100, 200, 300],  # Number of trees in the forest\n",
    "    'max_depth': [10, 20, 30],        # Maximum depth of the trees\n",
    "    'min_samples_split': [2, 4, 6],   # Minimum number of samples required to split a node\n",
    "    'min_samples_leaf': [1, 2, 4]     # Minimum number of samples required at each leaf node\n",
    "}\n",
    "\n",
    "# Initialize GridSearchCV with RandomForestClassifier and the parameter grid\n",
    "grid_search = GridSearchCV(RandomForestClassifier(), param_grid, cv=3, verbose=2, n_jobs=-1)\n",
    "\n",
    "# Fit GridSearchCV to the training data\n",
    "grid_search.fit(x_train, y_train)\n",
    "\n",
    "# Print the best parameters found by GridSearchCV\n",
    "print(\"Best parameters found: \", grid_search.best_params_)\n",
    "\n",
    "# Use the best model found by GridSearchCV\n",
    "model = grid_search.best_estimator_\n",
    "\n",
    "# Predict on the test set using the best model\n",
    "y_predict = model.predict(x_test)"
   ]
  },
  {
   "cell_type": "code",
   "execution_count": 3,
   "id": "aec77135",
   "metadata": {},
   "outputs": [
    {
     "name": "stdout",
     "output_type": "stream",
     "text": [
      "99.7953814674072% of samples were classified correctly !\n"
     ]
    }
   ],
   "source": [
    "# Calculate the accuracy score and other metrics\n",
    "score = accuracy_score(y_test, y_predict)\n",
    "print('{}% of samples were classified correctly !'.format(score * 100))"
   ]
  },
  {
   "cell_type": "code",
   "execution_count": 4,
   "id": "51b2d86b",
   "metadata": {},
   "outputs": [
    {
     "name": "stdout",
     "output_type": "stream",
     "text": [
      "Micro Precision: 99.80%\n",
      "Macro Precision: 99.80%\n",
      "Micro Recall: 99.80%\n",
      "Macro Recall: 99.78%\n",
      "Micro F1 Score: 99.80%\n",
      "Macro F1 Score: 99.79%\n"
     ]
    }
   ],
   "source": [
    "# Calculate additional performance metrics\n",
    "precision_micro = precision_score(y_test, y_predict, average='micro')\n",
    "precision_macro = precision_score(y_test, y_predict, average='macro')\n",
    "recall_micro = recall_score(y_test, y_predict, average='micro')\n",
    "recall_macro = recall_score(y_test, y_predict, average='macro')\n",
    "f1_micro = f1_score(y_test, y_predict, average='micro')\n",
    "f1_macro = f1_score(y_test, y_predict, average='macro')\n",
    "\n",
    "# Print these metrics\n",
    "print('Micro Precision: {:.2f}%'.format(precision_micro * 100))\n",
    "print('Macro Precision: {:.2f}%'.format(precision_macro * 100))\n",
    "print('Micro Recall: {:.2f}%'.format(recall_micro * 100))\n",
    "print('Macro Recall: {:.2f}%'.format(recall_macro * 100))\n",
    "print('Micro F1 Score: {:.2f}%'.format(f1_micro * 100))\n",
    "print('Macro F1 Score: {:.2f}%'.format(f1_macro * 100))"
   ]
  },
  {
   "cell_type": "code",
   "execution_count": 5,
   "id": "18f35f43",
   "metadata": {},
   "outputs": [
    {
     "data": {
      "image/png": "[encoded data removed]",
      "text/plain": [
       "<Figure size 1000x700 with 2 Axes>"
      ]
     },
     "metadata": {},
     "output_type": "display_data"
    }
   ],
   "source": [
    "# Create a confusion matrix and visualize it\n",
    "conf_matrix = confusion_matrix(y_test, y_predict)\n",
    "plt.figure(figsize=(10, 7))\n",
    "sns.heatmap(conf_matrix, annot=True, fmt='g', cmap='Blues', \n",
    "            xticklabels=np.unique(y_test), yticklabels=np.unique(y_test))\n",
    "plt.xlabel('Predicted labels')\n",
    "plt.ylabel('True labels')\n",
    "plt.title('Confusion Matrix')\n",
    "plt.show()"
   ]
  },
  {
   "cell_type": "code",
   "execution_count": 6,
   "id": "f884fc5f",
   "metadata": {},
   "outputs": [],
   "source": [
    "# Save the trained model for future use\n",
    "f = open('model.p', 'wb')\n",
    "pickle.dump({'model': model}, f)\n",
    "f.close()\n"
   ]
  },
  {
   "cell_type": "markdown",
   "id": "c3191a3d",
   "metadata": {},
   "source": [
    "## Make prediction"
   ]
  },
  {
   "cell_type": "code",
   "execution_count": 13,
   "id": "32100434",
   "metadata": {},
   "outputs": [],
   "source": [
    "# Load the trained model from the pickle file\n",
    "model_dict = pickle.load(open('./model.p', 'rb'))\n",
    "model = model_dict['model']\n",
    "\n",
    "# Start capturing video from the webcam\n",
    "cap = cv2.VideoCapture(0)\n",
    "\n",
    "# Initialize MediaPipe components for hand detection and drawing\n",
    "mp_hands = mp.solutions.hands\n",
    "mp_drawing = mp.solutions.drawing_utils\n",
    "mp_drawing_styles = mp.solutions.drawing_styles\n",
    "\n",
    "# Configure MediaPipe Hands\n",
    "hands = mp_hands.Hands(static_image_mode=True, min_detection_confidence=0.3)\n",
    "\n",
    "# Define a dictionary to map prediction outputs to labels\n",
    "labels_dict = {0: 'A', 1: 'B', 2: 'C', 3:'D', 4: 'E', 5: 'F', 6: 'G', 7: 'H', \n",
    "               8: 'I', 9: 'K', 10: 'L', 11: 'M', 12: 'N', 13: 'O', 14: 'P', 15: 'Q',\n",
    "              16: 'R', 17: 'S', 18: 'T', 19: 'U', 20: 'V', 21: 'W', 22: 'X', 23: 'Y'}\n",
    "\n",
    "# Start an infinite loop to process video frames\n",
    "while True:\n",
    "    data_aux = []  # List to store processed hand landmark data\n",
    "    x_ = []        # List to store x coordinates of hand landmarks\n",
    "    y_ = []        # List to store y coordinates of hand landmarks\n",
    "\n",
    "    # Read a frame from the webcam\n",
    "    ret, frame = cap.read()\n",
    "\n",
    "    # Get the dimensions of the frame\n",
    "    H, W, _ = frame.shape\n",
    "\n",
    "    # Convert the frame to RGB color space (required by MediaPipe)\n",
    "    frame_rgb = cv2.cvtColor(frame, cv2.COLOR_BGR2RGB)\n",
    "\n",
    "    # Process the frame using MediaPipe Hands\n",
    "    results = hands.process(frame_rgb)\n",
    "\n",
    "    # Check if hand landmarks are detected\n",
    "    if results.multi_hand_landmarks:\n",
    "        for hand_landmarks in results.multi_hand_landmarks:\n",
    "            # Draw hand landmarks on the frame\n",
    "            mp_drawing.draw_landmarks(\n",
    "                frame, hand_landmarks, mp_hands.HAND_CONNECTIONS, \n",
    "                mp_drawing_styles.get_default_hand_landmarks_style(),\n",
    "                mp_drawing_styles.get_default_hand_connections_style())\n",
    "\n",
    "        # Extract and normalize hand landmark data\n",
    "        for hand_landmarks in results.multi_hand_landmarks:\n",
    "            for i in range(len(hand_landmarks.landmark)):\n",
    "                x = hand_landmarks.landmark[i].x\n",
    "                y = hand_landmarks.landmark[i].y\n",
    "                x_.append(x)\n",
    "                y_.append(y)\n",
    "\n",
    "            for i in range(len(hand_landmarks.landmark)):\n",
    "                x = hand_landmarks.landmark[i].x\n",
    "                y = hand_landmarks.landmark[i].y\n",
    "                data_aux.append(x - min(x_))\n",
    "                data_aux.append(y - min(y_))\n",
    "\n",
    "        # Calculate the bounding box for the hand\n",
    "        x1, y1 = int(min(x_) * W) - 10, int(min(y_) * H) - 10\n",
    "        x2, y2 = int(max(x_) * W) + 20, int(max(y_) * H) + 20\n",
    "\n",
    "        # Check if the feature vector has the expected length and make a prediction\n",
    "        if len(data_aux) <= 42:\n",
    "            prediction = model.predict([np.asarray(data_aux)])\n",
    "            predicted_character = labels_dict[int(prediction[0])]\n",
    "\n",
    "            # Draw the predicted character and a bounding box on the frame\n",
    "            cv2.rectangle(frame, (x1, y1), (x2, y2), (0, 0, 0), 4)\n",
    "            cv2.putText(frame, predicted_character, (x1, y1 - 10), \n",
    "                        cv2.FONT_HERSHEY_SIMPLEX, 1.3, (0, 0, 0), 3, cv2.LINE_AA)\n",
    "\n",
    "    # Display the frame\n",
    "    cv2.imshow('frame', frame)\n",
    "\n",
    "    # Break the loop if 'q' is pressed\n",
    "    if cv2.waitKey(10) & 0xFF == ord('q'):\n",
    "        break\n",
    "\n",
    "# Release the webcam and close OpenCV windows\n",
    "cap.release()\n",
    "cv2.destroyAllWindows()"
   ]
  },
  {
   "cell_type": "code",
   "execution_count": 11,
   "id": "47fcc358",
   "metadata": {},
   "outputs": [],
   "source": [
    "cap.release()\n",
    "cv2.destroyAllWindows()"
   ]
  }
 ],
 "metadata": {
  "kernelspec": {
   "display_name": "Python 3 (ipykernel)",
   "language": "python",
   "name": "python3"
  },
  "language_info": {
   "codemirror_mode": {
    "name": "ipython",
    "version": 3
   },
   "file_extension": ".py",
   "mimetype": "text/x-python",
   "name": "python",
   "nbconvert_exporter": "python",
   "pygments_lexer": "ipython3",
   "version": "3.11.4"
  }
 },
 "nbformat": 4,
 "nbformat_minor": 5
}
